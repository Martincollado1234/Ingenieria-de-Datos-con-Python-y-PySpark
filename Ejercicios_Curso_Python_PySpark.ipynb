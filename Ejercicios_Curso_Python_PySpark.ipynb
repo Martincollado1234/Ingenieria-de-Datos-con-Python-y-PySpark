{
  "nbformat": 4,
  "nbformat_minor": 0,
  "metadata": {
    "colab": {
      "provenance": [],
      "toc_visible": true
    },
    "kernelspec": {
      "name": "python3",
      "display_name": "Python 3"
    },
    "language_info": {
      "name": "python"
    }
  },
  "cells": [
    {
      "cell_type": "markdown",
      "source": [
        "#Sección 2 - Descarga e Instalación de Spark en Google Colab"
      ],
      "metadata": {
        "id": "scMTpGHe8dGf"
      }
    },
    {
      "cell_type": "code",
      "source": [
        "# Instalar SDK Java 8\n",
        "\n",
        "!apt-get install openjdk-8-jdk-headless -qq > /dev/null"
      ],
      "metadata": {
        "id": "ntiqC4Hw8FLw"
      },
      "execution_count": null,
      "outputs": []
    },
    {
      "cell_type": "code",
      "source": [
        "# Descargar Spark 3.3.3\n",
        "\n",
        "!wget -q http://apache.osuosl.org/spark/spark-3.3.3/spark-3.3.3-bin-hadoop3.tgz"
      ],
      "metadata": {
        "id": "o-dsSnnA8HOq"
      },
      "execution_count": null,
      "outputs": []
    },
    {
      "cell_type": "code",
      "source": [
        "# Descomprimir el archivo descargado de Spark\n",
        "\n",
        "!tar xf spark-3.3.3-bin-hadoop3.tgz"
      ],
      "metadata": {
        "id": "h7jM2zSG8Kjq"
      },
      "execution_count": null,
      "outputs": []
    },
    {
      "cell_type": "code",
      "source": [
        "# Establecer las variables de entorno\n",
        "\n",
        "import os\n",
        "\n",
        "os.environ[\"JAVA_HOME\"] = \"/usr/lib/jvm/java-8-openjdk-amd64\"\n",
        "os.environ[\"SPARK_HOME\"] = \"/content/spark-3.3.3-bin-hadoop3\"\n"
      ],
      "metadata": {
        "id": "acc2ghSZ8Sob"
      },
      "execution_count": null,
      "outputs": []
    },
    {
      "cell_type": "code",
      "execution_count": null,
      "metadata": {
        "id": "iJQz3y5VD-GQ"
      },
      "outputs": [],
      "source": [
        "# Instalar la librería findspark\n",
        "\n",
        "!pip install -q findspark"
      ]
    },
    {
      "cell_type": "code",
      "source": [
        "# Instalar pyspark\n",
        "\n",
        "!pip install -q pyspark"
      ],
      "metadata": {
        "colab": {
          "base_uri": "https://localhost:8080/"
        },
        "id": "TR6qltvEERjm",
        "outputId": "90966ae5-07cb-44f8-d8c2-18cfa1ee0d2f"
      },
      "execution_count": null,
      "outputs": [
        {
          "output_type": "stream",
          "name": "stdout",
          "text": [
            "\u001b[2K     \u001b[90m━━━━━━━━━━━━━━━━━━━━━━━━━━━━━━━━━━━━━━━━\u001b[0m \u001b[32m316.9/316.9 MB\u001b[0m \u001b[31m2.8 MB/s\u001b[0m eta \u001b[36m0:00:00\u001b[0m\n",
            "\u001b[?25h  Preparing metadata (setup.py) ... \u001b[?25l\u001b[?25hdone\n",
            "  Building wheel for pyspark (setup.py) ... \u001b[?25l\u001b[?25hdone\n"
          ]
        }
      ]
    },
    {
      "cell_type": "code",
      "source": [
        "# Verificar instalacion\n",
        "\n",
        "import findspark\n",
        "\n",
        "findspark.init()\n"
      ],
      "metadata": {
        "id": "sQquyxYUEhFn"
      },
      "execution_count": null,
      "outputs": []
    },
    {
      "cell_type": "code",
      "source": [
        "# Crear la sesion de Spark\n",
        "from pyspark.sql import SparkSession\n",
        "\n",
        "spark = SparkSession.builder.master(\"local[*]\").appName('Curso Pyspark').getOrCreate()"
      ],
      "metadata": {
        "id": "B1CapCyHElRj"
      },
      "execution_count": null,
      "outputs": []
    },
    {
      "cell_type": "code",
      "source": [
        "#Crear Spark context\n",
        "sc = spark.sparkContext"
      ],
      "metadata": {
        "id": "OUQe7LixEyxT"
      },
      "execution_count": null,
      "outputs": []
    },
    {
      "cell_type": "markdown",
      "source": [
        "#Ejercicios Seccion 3 - Introducción RDD en Spark\n",
        "\n",
        "1. Cree una sesión de Spark con nombre Cap2 y asegúrese de que emplea todos los cores disponibles para ejecutar en su ambiente de trabajo.\n",
        "\n",
        "2. Cree dos RDD vacíos, uno de ellos no debe contener particiones y el otro debe tener 5 particiones. Utilice vías diferentes para crear cada RDD.\n",
        "\n",
        "3. Cree un RDD que contenga los números primos que hay entre 1 y 20.\n",
        "\n",
        "4. Cree un nuevo RDD a partir del RDD creado en el ejercicio anterior el cuál solo contenga los números primos mayores a 10.\n",
        "\n",
        "5. Descargue el archivo de texto adjunto a esta lección como recurso y guárdelo en una carpeta llamada data en el ambiente de trabajo de Colab.\n",
        "  * Cree un RDD a partir de este archivo de texto en donde todo el documento esté contenido en un solo registro. ¿Cómo podría saber la dirección donde está guardado el archivo de texto a partir del RDD creado?\n",
        "\n",
        "  * Si necesitara crear un RDD a partir del archivo de texto cargado previamente en donde cada línea del archivo fuera un registro del RDD, ¿cómo lo haría?"
      ],
      "metadata": {
        "id": "tXpVTEKo5ucs"
      }
    },
    {
      "cell_type": "code",
      "source": [
        "#1\n",
        "spark = SparkSession.builder.master(\"local[*]\").appName(\"Cap2\").getOrCreate()"
      ],
      "metadata": {
        "id": "P1EnibI_7CMk"
      },
      "execution_count": null,
      "outputs": []
    },
    {
      "cell_type": "code",
      "source": [
        "#2\n",
        "rdd_vacio = sc.emptyRDD()\n",
        "rdd_vacio5 = sc.parallelize([],5)\n",
        "rdd_vacio.getNumPartitions()"
      ],
      "metadata": {
        "id": "2fxfAu8X7JI2"
      },
      "execution_count": null,
      "outputs": []
    },
    {
      "cell_type": "code",
      "source": [
        "#3\n",
        "rdd20 = sc.parallelize(range(1,21))\n",
        "rdd20.collect()\n",
        "rdd_primos = sc.parallelize([1,2,3,5,7,11,13,17,19])\n",
        "rdd_primos.collect()"
      ],
      "metadata": {
        "id": "pnkfSFjm7ShT"
      },
      "execution_count": null,
      "outputs": []
    },
    {
      "cell_type": "code",
      "source": [
        "#4\n",
        "rdd10 = rdd_primos.filter(lambda x: x>10).collect()\n",
        "print(rdd10)"
      ],
      "metadata": {
        "id": "7Lpg2abp7kIu"
      },
      "execution_count": null,
      "outputs": []
    },
    {
      "cell_type": "code",
      "source": [
        "#5\n",
        "rdd_textfile = sc.wholeTextFiles('/content/el_valor_del_big_data.txt')\n",
        "rdd_textfile.collect()\n",
        "rdd_linea = sc.textFile('/content/el_valor_del_big_data.txt')\n",
        "rdd_linea.collect()"
      ],
      "metadata": {
        "id": "i3TCH6CN7ll5"
      },
      "execution_count": null,
      "outputs": []
    },
    {
      "cell_type": "markdown",
      "source": [
        "#Ejercicios Seccion 4 - Transformaciones RDD"
      ],
      "metadata": {
        "id": "-SqFMZj4jNjo"
      }
    },
    {
      "cell_type": "code",
      "source": [
        "#Crear un RDD llamado lenguajes que contenga los siguientes lenguajes de programación: Python, R, C, Scala, Rugby y SQL.\n",
        "lenguajes = sc.parallelize(['R','Python','C','Scala','Rugby','SQL'])\n",
        "lenguajes.collect()"
      ],
      "metadata": {
        "colab": {
          "base_uri": "https://localhost:8080/"
        },
        "id": "eTj3_W-hE730",
        "outputId": "d9b02e79-d821-4961-de0a-ab6873753e42"
      },
      "execution_count": null,
      "outputs": [
        {
          "output_type": "execute_result",
          "data": {
            "text/plain": [
              "['R', 'Python', 'C', 'Scala', 'Rugby', 'SQL']"
            ]
          },
          "metadata": {},
          "execution_count": 8
        }
      ]
    },
    {
      "cell_type": "code",
      "source": [
        "#Obtener un nuevo RDD a partir del RDD lenguajes donde todos los lenguajes de programación estén en mayúsculas.\n",
        "lengmayusculas = lenguajes.map(lambda x:x.upper())\n",
        "lengmayusculas.collect()"
      ],
      "metadata": {
        "colab": {
          "base_uri": "https://localhost:8080/"
        },
        "id": "7NqxPF1xFtIh",
        "outputId": "f415d98a-52aa-455e-b87f-e4efc1a3f111"
      },
      "execution_count": null,
      "outputs": [
        {
          "output_type": "execute_result",
          "data": {
            "text/plain": [
              "['R', 'PYTHON', 'C', 'SCALA', 'RUGBY', 'SQL']"
            ]
          },
          "metadata": {},
          "execution_count": 9
        }
      ]
    },
    {
      "cell_type": "code",
      "source": [
        "#Obtener un nuevo RDD a partir del RDD lenguajes donde todos los lenguajes de programación estén en minúsculas.\n",
        "lengminusculas = lenguajes.map(lambda x: x.lower())\n",
        "lengminusculas.collect()"
      ],
      "metadata": {
        "colab": {
          "base_uri": "https://localhost:8080/"
        },
        "id": "_vJkXl24F-PA",
        "outputId": "7939611c-cd53-4fb3-8d50-8eb8ec27fa45"
      },
      "execution_count": null,
      "outputs": [
        {
          "output_type": "execute_result",
          "data": {
            "text/plain": [
              "['r', 'python', 'c', 'scala', 'rugby', 'sql']"
            ]
          },
          "metadata": {},
          "execution_count": 10
        }
      ]
    },
    {
      "cell_type": "code",
      "source": [
        "#Crear un nuevo RDD que solo contenga aquellos lenguajes de programación que comiencen con la letra R.\n",
        "lengR = lenguajes.filter(lambda x: x.startswith('R'))\n",
        "lengR.collect()"
      ],
      "metadata": {
        "colab": {
          "base_uri": "https://localhost:8080/"
        },
        "id": "5JjHkzFdGKXA",
        "outputId": "ded873c5-9b1d-49dc-f589-4abbf4308fe6"
      },
      "execution_count": null,
      "outputs": [
        {
          "output_type": "execute_result",
          "data": {
            "text/plain": [
              "['R', 'Rugby']"
            ]
          },
          "metadata": {},
          "execution_count": 12
        }
      ]
    },
    {
      "cell_type": "code",
      "source": [
        "#Crear un RDD llamado pares que contenga los números pares existentes en el intervalo [20;30].\n",
        "rdd2030 = sc.parallelize(range(20,31))\n",
        "rdd2030.collect()\n",
        "pares = rdd2030.filter(lambda x: x%2==0)\n",
        "pares.collect()"
      ],
      "metadata": {
        "colab": {
          "base_uri": "https://localhost:8080/"
        },
        "id": "bBH1g9CMGLCN",
        "outputId": "0fc73d8f-97a7-4f2a-dac5-744f6fe8e98d"
      },
      "execution_count": null,
      "outputs": [
        {
          "output_type": "execute_result",
          "data": {
            "text/plain": [
              "[20, 22, 24, 26, 28, 30]"
            ]
          },
          "metadata": {},
          "execution_count": 15
        }
      ]
    },
    {
      "cell_type": "code",
      "source": [
        "#Crear el RDD llamado sqrt, este debe contener la raíz cuadrada de los elementos que componen el RDD pares.\n",
        "import math\n",
        "sqrt = pares.map(lambda x: math.sqrt(x))\n",
        "sqrt.collect()"
      ],
      "metadata": {
        "colab": {
          "base_uri": "https://localhost:8080/"
        },
        "id": "niNfpkRUHqZS",
        "outputId": "7b643c8f-b6f4-4832-aee1-694a27b95db7"
      },
      "execution_count": null,
      "outputs": [
        {
          "output_type": "execute_result",
          "data": {
            "text/plain": [
              "[4.47213595499958,\n",
              " 4.69041575982343,\n",
              " 4.898979485566356,\n",
              " 5.0990195135927845,\n",
              " 5.291502622129181,\n",
              " 5.477225575051661]"
            ]
          },
          "metadata": {},
          "execution_count": 63
        }
      ]
    },
    {
      "cell_type": "code",
      "source": [
        "#Obtener una lista compuesta por los números pares en el intervalo [20;30] y sus respectivas raíces cuadradas.\n",
        "parraiz=pares.flatMap(lambda x: (x,math.sqrt(x)))\n",
        "parraiz.collect()"
      ],
      "metadata": {
        "colab": {
          "base_uri": "https://localhost:8080/"
        },
        "id": "lSzdnxtbIuQ2",
        "outputId": "3d3a3fe9-3b0b-44a0-b0f0-ebfe659a1252"
      },
      "execution_count": null,
      "outputs": [
        {
          "output_type": "execute_result",
          "data": {
            "text/plain": [
              "[20,\n",
              " 4.47213595499958,\n",
              " 22,\n",
              " 4.69041575982343,\n",
              " 24,\n",
              " 4.898979485566356,\n",
              " 26,\n",
              " 5.0990195135927845,\n",
              " 28,\n",
              " 5.291502622129181,\n",
              " 30,\n",
              " 5.477225575051661]"
            ]
          },
          "metadata": {},
          "execution_count": 64
        }
      ]
    },
    {
      "cell_type": "code",
      "source": [
        "#Elevar el número de particiones del RDD sqrt a 20.\n",
        "sqrt20 = sqrt.repartition(20)\n",
        "sqrt20.getNumPartitions()"
      ],
      "metadata": {
        "colab": {
          "base_uri": "https://localhost:8080/"
        },
        "id": "04wifH6NIudW",
        "outputId": "84eeb5f3-847d-4408-ee36-75102ee2b1b9"
      },
      "execution_count": null,
      "outputs": [
        {
          "output_type": "execute_result",
          "data": {
            "text/plain": [
              "20"
            ]
          },
          "metadata": {},
          "execution_count": 23
        }
      ]
    },
    {
      "cell_type": "code",
      "source": [
        "#Reducir el número de particiones del RDD sqrt20 a 5.\n",
        "sqrt5 = sqrt20.coalesce(5)\n",
        "sqrt5.getNumPartitions()"
      ],
      "metadata": {
        "colab": {
          "base_uri": "https://localhost:8080/"
        },
        "id": "z_QZJfr2JojE",
        "outputId": "f7e794d6-70ce-4efa-c7b8-ce069ac018de"
      },
      "execution_count": null,
      "outputs": [
        {
          "output_type": "execute_result",
          "data": {
            "text/plain": [
              "5"
            ]
          },
          "metadata": {},
          "execution_count": 25
        }
      ]
    },
    {
      "cell_type": "code",
      "source": [
        "#Crear un RDD del tipo clave valor a partir de los datos adjuntos como recurso a esta lección.\n",
        "#Tener en cuenta que deberá procesar el RDD leído para obtener el resultado solicitado.\n",
        "#Suponer que el RDD resultante de tipo clave valor refleja las transacciones realizadas por número de cuentas.\n",
        "#Obtenga el monto total por cada cuenta.\n",
        "transacciones = sc.textFile('/content/transacciones')\n",
        "transacciones.collect()"
      ],
      "metadata": {
        "colab": {
          "base_uri": "https://localhost:8080/"
        },
        "id": "SQ-3NXFeKysE",
        "outputId": "d44ff247-504c-4182-9dd7-07b0c4191b76"
      },
      "execution_count": null,
      "outputs": [
        {
          "output_type": "execute_result",
          "data": {
            "text/plain": [
              "['(1001, 52.3)',\n",
              " '(1005, 20.8)',\n",
              " '(1001, 10.1)',\n",
              " '(1004, 52.7)',\n",
              " '(1005, 20.7)',\n",
              " '(1002, 85.3)',\n",
              " '(1004, 20.9)']"
            ]
          },
          "metadata": {},
          "execution_count": 43
        }
      ]
    },
    {
      "cell_type": "code",
      "source": [
        "#Sustituimos parentesis por espacios\n",
        "def proceso(s):\n",
        "  return tuple(s.replace('(','').replace(')','').split(', ' ))\n"
      ],
      "metadata": {
        "id": "BtiOXaFsPgwo"
      },
      "execution_count": null,
      "outputs": []
    },
    {
      "cell_type": "code",
      "source": [
        "rddclavevalor= transacciones.map(proceso)\n",
        "rddclavevalor.collect()"
      ],
      "metadata": {
        "colab": {
          "base_uri": "https://localhost:8080/"
        },
        "id": "iIPO0mtrSxUA",
        "outputId": "309d46a6-abae-4a4d-e0f5-b89093f261b1"
      },
      "execution_count": null,
      "outputs": [
        {
          "output_type": "execute_result",
          "data": {
            "text/plain": [
              "[('1001', '52.3'),\n",
              " ('1005', '20.8'),\n",
              " ('1001', '10.1'),\n",
              " ('1004', '52.7'),\n",
              " ('1005', '20.7'),\n",
              " ('1002', '85.3'),\n",
              " ('1004', '20.9')]"
            ]
          },
          "metadata": {},
          "execution_count": 49
        }
      ]
    },
    {
      "cell_type": "code",
      "source": [
        "#Transformar la cantidad a float\n",
        "rddclavevalor2 = rddclavevalor.map(lambda x: (x[0],float(x[1])))\n",
        "rddclavevalor2.collect()"
      ],
      "metadata": {
        "colab": {
          "base_uri": "https://localhost:8080/"
        },
        "id": "TdScc51dUqWt",
        "outputId": "480bcc64-ba09-4190-c06a-c7d792d92a27"
      },
      "execution_count": null,
      "outputs": [
        {
          "output_type": "execute_result",
          "data": {
            "text/plain": [
              "[('1001', 52.3),\n",
              " ('1005', 20.8),\n",
              " ('1001', 10.1),\n",
              " ('1004', 52.7),\n",
              " ('1005', 20.7),\n",
              " ('1002', 85.3),\n",
              " ('1004', 20.9)]"
            ]
          },
          "metadata": {},
          "execution_count": 61
        }
      ]
    },
    {
      "cell_type": "code",
      "source": [
        "monto = rddclavevalor2.reduceByKey(lambda x,y: x+y)\n",
        "monto.collect()"
      ],
      "metadata": {
        "colab": {
          "base_uri": "https://localhost:8080/"
        },
        "id": "W4kHJLm7TE7d",
        "outputId": "0dc97208-be68-4243-9051-cf8c54e91fe1"
      },
      "execution_count": null,
      "outputs": [
        {
          "output_type": "execute_result",
          "data": {
            "text/plain": [
              "[('1002', 85.3), ('1001', 62.4), ('1005', 41.5), ('1004', 73.6)]"
            ]
          },
          "metadata": {},
          "execution_count": 62
        }
      ]
    },
    {
      "cell_type": "markdown",
      "source": [
        "#Ejercicios Seccion 5 - Acciones sobre un RDD"
      ],
      "metadata": {
        "id": "0n4Gys6hjZGi"
      }
    },
    {
      "cell_type": "code",
      "source": [
        "#Crear  un RDD llamado importes a partir del archivo adjunto a esta lección como recurso.\n",
        "importes = sc.textFile('/content/num.txt')\n",
        "importes.collect()"
      ],
      "metadata": {
        "colab": {
          "base_uri": "https://localhost:8080/"
        },
        "id": "Dm3wGZqYjdih",
        "outputId": "7ab3fd29-46c6-4d3e-b390-8a709737173c"
      },
      "execution_count": null,
      "outputs": [
        {
          "output_type": "execute_result",
          "data": {
            "text/plain": [
              "['70',\n",
              " '69',\n",
              " '16',\n",
              " '80',\n",
              " '85',\n",
              " '81',\n",
              " '93',\n",
              " '5',\n",
              " '78',\n",
              " '21',\n",
              " '13',\n",
              " '77',\n",
              " '93',\n",
              " '31',\n",
              " '16',\n",
              " '84',\n",
              " '64',\n",
              " '29',\n",
              " '45',\n",
              " '24',\n",
              " '64',\n",
              " '31',\n",
              " '2',\n",
              " '55',\n",
              " '51',\n",
              " '92',\n",
              " '72',\n",
              " '84',\n",
              " '22',\n",
              " '50',\n",
              " '17',\n",
              " '5',\n",
              " '96',\n",
              " '63',\n",
              " '67',\n",
              " '82',\n",
              " '52',\n",
              " '38',\n",
              " '86',\n",
              " '23',\n",
              " '90',\n",
              " '96',\n",
              " '53',\n",
              " '95',\n",
              " '10',\n",
              " '28',\n",
              " '75',\n",
              " '72',\n",
              " '67',\n",
              " '82',\n",
              " '40',\n",
              " '60',\n",
              " '34',\n",
              " '26',\n",
              " '47',\n",
              " '55',\n",
              " '10',\n",
              " '46',\n",
              " '86',\n",
              " '46',\n",
              " '64',\n",
              " '37',\n",
              " '31',\n",
              " '43',\n",
              " '74',\n",
              " '44',\n",
              " '87',\n",
              " '7',\n",
              " '54',\n",
              " '95',\n",
              " '43',\n",
              " '79',\n",
              " '79',\n",
              " '53',\n",
              " '62',\n",
              " '13',\n",
              " '37',\n",
              " '45',\n",
              " '40',\n",
              " '81',\n",
              " '50',\n",
              " '41',\n",
              " '30',\n",
              " '81',\n",
              " '27',\n",
              " '27',\n",
              " '49',\n",
              " '97',\n",
              " '73',\n",
              " '99',\n",
              " '77',\n",
              " '64',\n",
              " '47',\n",
              " '68',\n",
              " '8',\n",
              " '79',\n",
              " '13',\n",
              " '49',\n",
              " '75',\n",
              " '2',\n",
              " '23',\n",
              " '94',\n",
              " '21',\n",
              " '2',\n",
              " '10',\n",
              " '9',\n",
              " '19',\n",
              " '75',\n",
              " '7',\n",
              " '27',\n",
              " '55',\n",
              " '38',\n",
              " '10',\n",
              " '39',\n",
              " '73',\n",
              " '21',\n",
              " '81',\n",
              " '1',\n",
              " '61',\n",
              " '62',\n",
              " '5',\n",
              " '91',\n",
              " '68',\n",
              " '35',\n",
              " '81',\n",
              " '91',\n",
              " '34',\n",
              " '24',\n",
              " '63',\n",
              " '61',\n",
              " '32',\n",
              " '11',\n",
              " '74',\n",
              " '43',\n",
              " '98',\n",
              " '18',\n",
              " '25',\n",
              " '33',\n",
              " '31',\n",
              " '32',\n",
              " '42',\n",
              " '97',\n",
              " '11',\n",
              " '28',\n",
              " '14',\n",
              " '49',\n",
              " '34',\n",
              " '78',\n",
              " '50',\n",
              " '76',\n",
              " '25',\n",
              " '79',\n",
              " '61',\n",
              " '15',\n",
              " '57',\n",
              " '60',\n",
              " '61',\n",
              " '52',\n",
              " '94',\n",
              " '32',\n",
              " '30',\n",
              " '71',\n",
              " '16',\n",
              " '32',\n",
              " '26',\n",
              " '30',\n",
              " '42',\n",
              " '36',\n",
              " '45',\n",
              " '1',\n",
              " '91',\n",
              " '47',\n",
              " '19',\n",
              " '43',\n",
              " '71',\n",
              " '41',\n",
              " '95',\n",
              " '12',\n",
              " '64',\n",
              " '95',\n",
              " '51',\n",
              " '39',\n",
              " '55',\n",
              " '99',\n",
              " '12',\n",
              " '98',\n",
              " '97',\n",
              " '37',\n",
              " '25',\n",
              " '45',\n",
              " '36',\n",
              " '13',\n",
              " '63',\n",
              " '81',\n",
              " '16',\n",
              " '56',\n",
              " '33',\n",
              " '61',\n",
              " '31',\n",
              " '39',\n",
              " '84',\n",
              " '30',\n",
              " '97',\n",
              " '37',\n",
              " '29',\n",
              " '94',\n",
              " '76',\n",
              " '39',\n",
              " '62',\n",
              " '12',\n",
              " '97',\n",
              " '90',\n",
              " '50',\n",
              " '85',\n",
              " '25',\n",
              " '28',\n",
              " '35',\n",
              " '63',\n",
              " '25',\n",
              " '56',\n",
              " '43',\n",
              " '18',\n",
              " '57',\n",
              " '20',\n",
              " '62',\n",
              " '51',\n",
              " '63',\n",
              " '27',\n",
              " '82',\n",
              " '71',\n",
              " '24',\n",
              " '7',\n",
              " '70']"
            ]
          },
          "metadata": {},
          "execution_count": 8
        }
      ]
    },
    {
      "cell_type": "code",
      "source": [
        "#¿Cuántos registros tiene el RDD importes?\n",
        "importes.count()"
      ],
      "metadata": {
        "colab": {
          "base_uri": "https://localhost:8080/"
        },
        "id": "kSkp7PtDk7ER",
        "outputId": "58a8a6cc-5e3c-4149-af4d-25643d7c736a"
      },
      "execution_count": null,
      "outputs": [
        {
          "output_type": "execute_result",
          "data": {
            "text/plain": [
              "233"
            ]
          },
          "metadata": {},
          "execution_count": 9
        }
      ]
    },
    {
      "cell_type": "code",
      "source": [
        "# ¿Cuál es el valor mínimo y máximo del RDD importes?\n",
        "importes.max()\n",
        "#importes.min()"
      ],
      "metadata": {
        "colab": {
          "base_uri": "https://localhost:8080/",
          "height": 36
        },
        "id": "CHe0SAxijd76",
        "outputId": "82f6087a-0ead-48e2-e7c9-a679c5ea82c3"
      },
      "execution_count": null,
      "outputs": [
        {
          "output_type": "execute_result",
          "data": {
            "text/plain": [
              "'99'"
            ],
            "application/vnd.google.colaboratory.intrinsic+json": {
              "type": "string"
            }
          },
          "metadata": {},
          "execution_count": 11
        }
      ]
    },
    {
      "cell_type": "code",
      "source": [
        "#Crear un RDD top15 que contenga los 15 mayores valores del RDD importes.\n",
        "#Tenga en cuenta que pueden repetirse los valores.\n",
        "#Por último, escriba el RDD top15 como archivo de texto en la carpeta data/salida\n",
        "top15 = importes.top(15)\n",
        "rddtop15 = sc.parallelize(top15)\n",
        "rddtop15.collect()\n",
        "rdd2 = rddtop15.coalesce(1)\n",
        "rdd2.saveAsTextFile('/content/salida3')"
      ],
      "metadata": {
        "id": "s8LooiZqlZoi"
      },
      "execution_count": null,
      "outputs": []
    },
    {
      "cell_type": "code",
      "source": [
        "#Crear una función llamada factorial que calcule el factorial de un número dado como parámetro.\n",
        "#Utilice RDDs para el cálculo.\n",
        "def factorial(num):\n",
        "  if num == 0:\n",
        "    return 1\n",
        "  else:\n",
        "    rdd = sc.parallelize(list(range(1,num+1)))\n",
        "    return rdd.reduce(lambda x,y: x*y)\n"
      ],
      "metadata": {
        "id": "jO7DtLprr7xl"
      },
      "execution_count": null,
      "outputs": []
    },
    {
      "cell_type": "code",
      "source": [
        "factorial(4)"
      ],
      "metadata": {
        "colab": {
          "base_uri": "https://localhost:8080/"
        },
        "id": "okISkFLLsrK-",
        "outputId": "ac4b9143-b705-4237-88b7-91ecf71a5192"
      },
      "execution_count": null,
      "outputs": [
        {
          "output_type": "execute_result",
          "data": {
            "text/plain": [
              "24"
            ]
          },
          "metadata": {},
          "execution_count": 39
        }
      ]
    },
    {
      "cell_type": "markdown",
      "source": [
        "#"
      ],
      "metadata": {
        "id": "d3CJa7vm4ple"
      }
    },
    {
      "cell_type": "markdown",
      "source": [
        "# Ejercicios Seccion 6 - Aspectos avanzados RDD\n",
        "\n",
        "2. Si se conoce que a cada venta hay que restarle un importe fijo igual a 10 pesos por temas de impuestos\n",
        "\n",
        "- ¿Cómo restaría este impuesto de cada venta utilizando una variable broadcast para acelerar el proceso?\n",
        "- Cree un RDD llamado ventas_sin_impuestos a partir de la propuesta del inciso a que contenga las ventas sin impuestos.\n",
        "- Destruya la variable broadcast creada luego de emplearla para crear el RDD del inciso b.\n",
        "\n",
        "3. Persista el RDD ventas_sin_impuestos en los siguientes niveles de persistencia.\n",
        "- Memoria.\n",
        "- Disco solamente\n",
        "- Memoria y disco.\n",
        "\n"
      ],
      "metadata": {
        "id": "sTijKmGN4xAK"
      }
    },
    {
      "cell_type": "code",
      "source": [
        "#Crear un RDD importes a partir de los datos adjuntos a esta lección como recurso.\n",
        "#Emplear acumuladores para obtener el total de ventas realizadas y el importe total de las ventas.\n",
        "importes = sc.textFile('/content/rdd.txt')\n",
        "importes.collect()\n",
        "acumuladorventas = sc.accumulator(0)\n",
        "acumuladorcantidad=sc.accumulator(0)\n",
        "importesf = importes.map(lambda x: float(x))\n",
        "importes.foreach(lambda x: acumuladorventas.add(1))\n",
        "importesf.foreach(lambda x: acumuladorcantidad.add(x))\n",
        "print(acumuladorventas.value)\n",
        "print(acumuladorcantidad.value)"
      ],
      "metadata": {
        "colab": {
          "base_uri": "https://localhost:8080/"
        },
        "id": "y6CfVMAP4-5H",
        "outputId": "37431d9b-d218-4d11-f54e-34e80ea9be4a"
      },
      "execution_count": null,
      "outputs": [
        {
          "output_type": "stream",
          "name": "stdout",
          "text": [
            "10000\n",
            "5042335.0\n"
          ]
        }
      ]
    },
    {
      "cell_type": "code",
      "source": [
        "#2.1 2.2\n",
        "br_impuesto = sc.broadcast(10)\n",
        "ventassinimp = importesf.map(lambda x: x-br_impuesto.value)\n",
        "ventassinimp.collect()"
      ],
      "metadata": {
        "id": "PDAtlnTp49rp"
      },
      "execution_count": null,
      "outputs": []
    },
    {
      "cell_type": "code",
      "source": [
        "#2.3\n",
        "br_impuesto.destroy()"
      ],
      "metadata": {
        "id": "H4_SnRbA8wYR"
      },
      "execution_count": null,
      "outputs": []
    },
    {
      "cell_type": "code",
      "source": [
        "#3.1\n",
        "from pyspark.storagelevel import StorageLevel\n",
        "ventassinimp.persist(StorageLevel.MEMORY_ONLY)"
      ],
      "metadata": {
        "colab": {
          "base_uri": "https://localhost:8080/"
        },
        "id": "uMnOkNXm9L0k",
        "outputId": "51f43651-d68c-4363-8763-f3ce9012a4c6"
      },
      "execution_count": null,
      "outputs": [
        {
          "output_type": "execute_result",
          "data": {
            "text/plain": [
              "PythonRDD[85] at collect at <ipython-input-54-153e771494e5>:3"
            ]
          },
          "metadata": {},
          "execution_count": 56
        }
      ]
    },
    {
      "cell_type": "code",
      "source": [
        "#3.2\n",
        "ventassinimp.unpersist()\n",
        "ventassinimp.persist(StorageLevel.DISK_ONLY)"
      ],
      "metadata": {
        "colab": {
          "base_uri": "https://localhost:8080/"
        },
        "id": "z8XP-9L49h57",
        "outputId": "20679ec6-bcc4-486d-caaf-3c7c86684849"
      },
      "execution_count": null,
      "outputs": [
        {
          "output_type": "execute_result",
          "data": {
            "text/plain": [
              "PythonRDD[85] at collect at <ipython-input-54-153e771494e5>:3"
            ]
          },
          "metadata": {},
          "execution_count": 57
        }
      ]
    },
    {
      "cell_type": "code",
      "source": [
        "#3.3\n",
        "ventassinimp.unpersist()\n",
        "ventassinimp.persist(StorageLevel.MEMORY_AND_DISK)"
      ],
      "metadata": {
        "colab": {
          "base_uri": "https://localhost:8080/"
        },
        "id": "sJ5cmYuQ9tYe",
        "outputId": "72cf10ee-ab7e-4740-ec61-a3f24cd05a70"
      },
      "execution_count": null,
      "outputs": [
        {
          "output_type": "execute_result",
          "data": {
            "text/plain": [
              "PythonRDD[85] at collect at <ipython-input-54-153e771494e5>:3"
            ]
          },
          "metadata": {},
          "execution_count": 59
        }
      ]
    },
    {
      "cell_type": "markdown",
      "source": [
        "# Ejercicios Seccion 7 -SparkSQL\n",
        "Los datos adjuntos a esta lección forman parte de la base de datos [NeurIPS 2020] Data Science for COVID-19 (DS4C) disponible en Kaggle. Estos datos hacen referencia a los casos de contagio de covid-19 en Corea del Sur. El archivo csv Case contiene los casos reportados y el archivo csv PatientInfo contiene la información de los pacientes.\n",
        "1. A partir del archivo csv Case, determine las tres ciudades con más casos confirmados de la enfermedad. La salida debe contener tres columnas: provincia, ciudad y casos confirmados. El resultado debe contener exactamente los tres nombre de ciudades con más casos confirmados ya que no se admiten otros valores.\n",
        "2. Cree un dataframe a partir del archivo csv PatientInfo. Asegúrese de que su dataframe no contenga pacientes duplicados.\n",
        "3. ¿Cuántos pacientes tienen informado por quién se contagiaron(columna infected_by)? Obtenga solo los pacientes que tengan informado por quién se contagiaron.\n",
        "4. A partir de la salida del inciso anterior obtenga solo los pacientes femeninos. La salida no debe contener las columnas released_date y deceased_date.\n",
        "5. Establezca el número de particiones del dataframe resultante del inciso anterior en dos. Escriba el dataframe resultante en un archivo parquet. La salida debe estar particionada por la provincia y el modo de escritura debe ser overwrite.\n",
        "\n"
      ],
      "metadata": {
        "id": "vF9v1YcQEock"
      }
    },
    {
      "cell_type": "code",
      "source": [
        "dfcasos = spark.read.option('header','true').option('inferSchema','true').csv('/content/Case.csv')\n",
        "dfcasos.show()"
      ],
      "metadata": {
        "id": "ki_PQ024FRtv"
      },
      "execution_count": null,
      "outputs": []
    },
    {
      "cell_type": "code",
      "source": [
        "dfcasos.printSchema()"
      ],
      "metadata": {
        "id": "4ldi10KMSAhn"
      },
      "execution_count": null,
      "outputs": []
    },
    {
      "cell_type": "code",
      "source": [
        "from pyspark.sql.functions import desc,col"
      ],
      "metadata": {
        "id": "c_PRPPTGN5pp"
      },
      "execution_count": null,
      "outputs": []
    },
    {
      "cell_type": "code",
      "source": [
        "#7.1\n",
        "dfcasos.filter((col('city')!='-') & (col('city')!='from other city')).sort(desc('confirmed')).select('province','city','confirmed').show()"
      ],
      "metadata": {
        "id": "x-tC9FzhFR7L"
      },
      "execution_count": null,
      "outputs": []
    },
    {
      "cell_type": "code",
      "source": [
        "info = spark.read.option('header','true').option('inferSchema','true').csv('/content/PatientInfo.csv')\n",
        "info.printSchema()"
      ],
      "metadata": {
        "id": "XWd9gtlkGWU-"
      },
      "execution_count": null,
      "outputs": []
    },
    {
      "cell_type": "code",
      "source": [
        "info.select('patient_id').count()"
      ],
      "metadata": {
        "id": "jzaEHcY-FSHx"
      },
      "execution_count": null,
      "outputs": []
    },
    {
      "cell_type": "code",
      "source": [
        "info.select('patient_id').distinct().count()"
      ],
      "metadata": {
        "id": "TcdvHXadXeUz"
      },
      "execution_count": null,
      "outputs": []
    },
    {
      "cell_type": "code",
      "source": [
        "infosd = info.dropDuplicates(['patient_id'])\n",
        "infosd.count()"
      ],
      "metadata": {
        "colab": {
          "base_uri": "https://localhost:8080/"
        },
        "id": "2bflfPWJXoHp",
        "outputId": "ca1b0e49-9264-4138-8d11-e1fc9cf85f07"
      },
      "execution_count": null,
      "outputs": [
        {
          "output_type": "execute_result",
          "data": {
            "text/plain": [
              "5164"
            ]
          },
          "metadata": {},
          "execution_count": 99
        }
      ]
    },
    {
      "cell_type": "code",
      "source": [
        "#7.3\n",
        "infosd.filter(col('infected_by')!='NULL').count()"
      ],
      "metadata": {
        "colab": {
          "base_uri": "https://localhost:8080/"
        },
        "id": "ApM57vNYVdVV",
        "outputId": "f7a36384-c611-4ce7-8481-99f61c710f07"
      },
      "execution_count": null,
      "outputs": [
        {
          "output_type": "execute_result",
          "data": {
            "text/plain": [
              "1346"
            ]
          },
          "metadata": {},
          "execution_count": 100
        }
      ]
    },
    {
      "cell_type": "code",
      "source": [
        "dfsinnull = infosd.na.drop(subset=['infected_by'])\n",
        "dfsinnull.show()"
      ],
      "metadata": {
        "colab": {
          "base_uri": "https://localhost:8080/"
        },
        "id": "l3W3S26BYvBx",
        "outputId": "350d9d6b-c4d5-41d6-b6db-410a3d56106f"
      },
      "execution_count": null,
      "outputs": [
        {
          "output_type": "stream",
          "name": "stdout",
          "text": [
            "+----------+------+---+-------+--------+------------+--------------------+-----------+--------------+------------------+--------------+-------------+-------------+--------+\n",
            "|patient_id|   sex|age|country|province|        city|      infection_case|infected_by|contact_number|symptom_onset_date|confirmed_date|released_date|deceased_date|   state|\n",
            "+----------+------+---+-------+--------+------------+--------------------+-----------+--------------+------------------+--------------+-------------+-------------+--------+\n",
            "|1000000003|  male|50s|  Korea|   Seoul|   Jongno-gu|contact with patient| 2002000001|            17|              NULL|    2020-01-30|   2020-02-19|         NULL|released|\n",
            "|1000000005|female|20s|  Korea|   Seoul| Seongbuk-gu|contact with patient| 1000000002|             2|              NULL|    2020-01-31|   2020-02-24|         NULL|released|\n",
            "|1000000006|female|50s|  Korea|   Seoul|   Jongno-gu|contact with patient| 1000000003|            43|              NULL|    2020-01-31|   2020-02-19|         NULL|released|\n",
            "|1000000007|  male|20s|  Korea|   Seoul|   Jongno-gu|contact with patient| 1000000003|             0|              NULL|    2020-01-31|   2020-02-10|         NULL|released|\n",
            "|1000000010|female|60s|  Korea|   Seoul| Seongbuk-gu|contact with patient| 1000000003|             6|              NULL|    2020-02-05|   2020-02-29|         NULL|released|\n",
            "|1000000013|  male|80s|  Korea|   Seoul|   Jongno-gu|contact with patient| 1000000017|           117|              NULL|    2020-02-16|         NULL|         NULL|deceased|\n",
            "|1000000014|female|60s|  Korea|   Seoul|   Jongno-gu|contact with patient| 1000000013|            27|        2020-02-06|    2020-02-16|   2020-03-12|         NULL|released|\n",
            "|1000000016|  male|70s|  Korea|   Seoul|   Jongno-gu|contact with patient| 1000000017|          NULL|              NULL|    2020-02-19|   2020-03-11|         NULL|released|\n",
            "|1000000017|  male|70s|  Korea|   Seoul|   Jongno-gu|contact with patient| 1000000003|          NULL|              NULL|    2020-02-20|   2020-03-01|         NULL|released|\n",
            "|1000000019|female|70s|  Korea|   Seoul|   Jongno-gu|contact with patient| 1000000021|          NULL|              NULL|    2020-02-20|   2020-03-08|         NULL|released|\n",
            "|1000000020|female|70s|  Korea|   Seoul|Seongdong-gu|    Seongdong-gu APT| 1000000015|          NULL|              NULL|    2020-02-20|         NULL|         NULL|released|\n",
            "|1000000021|  male|80s|  Korea|   Seoul|   Jongno-gu|contact with patient| 1000000016|          NULL|              NULL|    2020-02-20|   2020-03-08|         NULL|released|\n",
            "|1000000025|  male|60s|  Korea|   Seoul| Gangdong-gu|Eunpyeong St. Mar...| 1000000022|          NULL|              NULL|    2020-02-22|         NULL|         NULL|released|\n",
            "|1000000029|female|20s|  Korea|   Seoul|   Jongno-gu|Eunpyeong St. Mar...| 1000000028|          NULL|        2020-02-11|    2020-02-26|   2020-03-11|         NULL|released|\n",
            "|1000000033|female|50s|  Korea|   Seoul|   Songpa-gu|contact with patient| 1000000031|          NULL|              NULL|    2020-02-24|   2020-03-10|         NULL|released|\n",
            "|1000000034|  male|20s|  Korea|   Seoul|   Songpa-gu|contact with patient| 1000000031|          NULL|              NULL|    2020-02-24|   2020-03-17|         NULL|released|\n",
            "|1000000037|female|40s|  Korea|   Seoul|   Songpa-gu|contact with patient| 1000000031|          NULL|              NULL|    2020-02-25|   2020-03-11|         NULL|released|\n",
            "|1000000040|female|60s|  Korea|   Seoul|   Gwanak-gu|     overseas inflow| 1500000002|          NULL|              NULL|    2020-02-25|         NULL|         NULL|released|\n",
            "|1000000045|  male|40s|  Korea|   Seoul|   Songpa-gu|contact with patient| 1000000033|          NULL|              NULL|    2020-02-26|   2020-03-04|         NULL|released|\n",
            "|1000000046|female|20s|  Korea|   Seoul|         etc|contact with patient| 1000000041|          NULL|              NULL|    2020-02-26|   2020-03-03|         NULL|released|\n",
            "+----------+------+---+-------+--------+------------+--------------------+-----------+--------------+------------------+--------------+-------------+-------------+--------+\n",
            "only showing top 20 rows\n",
            "\n"
          ]
        }
      ]
    },
    {
      "cell_type": "code",
      "source": [
        "#7.4\n",
        "finaldf = infosd.filter((col('infected_by')!='NULL') & (col('sex')=='female')).drop('deceased_date','released_date')"
      ],
      "metadata": {
        "id": "e6mxllRlVxCR"
      },
      "execution_count": null,
      "outputs": []
    },
    {
      "cell_type": "code",
      "source": [
        "finaldf.show(truncate=False)"
      ],
      "metadata": {
        "id": "rzfxYLx8bKdH"
      },
      "execution_count": null,
      "outputs": []
    },
    {
      "cell_type": "code",
      "source": [
        "#7.5\n",
        "finaldf.coalesce(2).write.partitionBy('province').mode('overwrite').parquet('/content/data')"
      ],
      "metadata": {
        "id": "n7GfcRF2bbJP"
      },
      "execution_count": null,
      "outputs": []
    },
    {
      "cell_type": "markdown",
      "source": [
        "#Ejercicios Sección 8 - Spark SQL avanzado\n",
        "Los datos adjuntos a esta lección forman parte de la base de datos Football Data from Transfermarkt de Kaggle. El conjunto de datos se compone de varios archivos CSV con información sobre competiciones, juegos, clubes, jugadores y apariciones.\n",
        "\n",
        "1. Determine los tres países con mayor número de jugadores(jugadores nacidos en ese país). El resultado debe estar ordenado de forma descendente.\n",
        "\n",
        "2. Obtenga la lista de jugadores con tarjeta roja. La salida debe contener dos columnas, el nombre de pila del jugador y la cantidad de tarjetas rojas que tiene.\n",
        "\n",
        "3. ¿Cuántos juegos se jugaron en la Premier League? La salida debe contener dos columnas, el nombre de la liga y la cantidad de juegos que se jugaron en ella.\n",
        "\n",
        "4. Obtenga las tres ligas con mayor número de asistencia de público teniendo en cuenta todos los juegos que se jugaron en ellas. El resultado debe estar ordenado de forma descendente y tener dos columnas, el nombre de la liga y la asistencia total."
      ],
      "metadata": {
        "id": "ftDqMKZMbTr2"
      }
    },
    {
      "cell_type": "code",
      "source": [
        "# Crear la sesion de Spark\n",
        "from pyspark.sql import SparkSession\n",
        "\n",
        "spark = SparkSession.builder.master(\"local[*]\").appName('Curso Pyspark').getOrCreate()"
      ],
      "metadata": {
        "id": "EwUn-u64lA0K"
      },
      "execution_count": null,
      "outputs": []
    },
    {
      "cell_type": "code",
      "source": [
        "#Generamos los dataframes\n",
        "appearances = spark.read.option('header','true').option('inferSchema','true').csv('/content/appearances.csv')\n",
        "clubs = spark.read.option('header','true').option('inferSchema','true').csv('/content/clubs.csv',header=True)\n",
        "competitions = spark.read.option('header','true').option('inferSchema','true').csv('/content/competitions.csv',header=True)\n",
        "games = spark.read.option('header','true').option('inferSchema','true').csv('/content/games.csv',header=True)\n",
        "leagues = spark.read.option('header','true').option('inferSchema','true').csv('/content/leagues.csv',header=True)\n",
        "players = spark.read.option('header','true').option('inferSchema','true').csv('/content/players.csv',header=True)"
      ],
      "metadata": {
        "id": "_5VY_oaMlb56"
      },
      "execution_count": null,
      "outputs": []
    },
    {
      "cell_type": "code",
      "source": [
        "players.show()"
      ],
      "metadata": {
        "colab": {
          "base_uri": "https://localhost:8080/"
        },
        "id": "13OkKZcymevT",
        "outputId": "538c5d6e-c0bf-4eb3-9c9b-0780dc9a3118"
      },
      "execution_count": null,
      "outputs": [
        {
          "output_type": "stream",
          "name": "stdout",
          "text": [
            "+---------+---------------+--------------------+--------------------+----------------+----------------------+-------------+----------+------------------+-----+------------+-------------------+---------------------------+--------------------+\n",
            "|player_id|current_club_id|                name|         pretty_name|country_of_birth|country_of_citizenship|date_of_birth|  position|      sub_position| foot|height_in_cm|market_value_in_gbp|highest_market_value_in_gbp|                 url|\n",
            "+---------+---------------+--------------------+--------------------+----------------+----------------------+-------------+----------+------------------+-----+------------+-------------------+---------------------------+--------------------+\n",
            "|    38790|          28095|      dmitri-golubov|      Dmitri Golubov|           UdSSR|                Russia|   1985-06-24|    Attack|    Centre-Forward| Both|         178|               NULL|                   675000.0|https://www.trans...|\n",
            "|   106539|          28095|  aleksandr-vasiljev|  Aleksandr Vasiljev|          Russia|                Russia|   1992-01-23|    Attack|      Right Winger|Right|         182|               NULL|                   225000.0|https://www.trans...|\n",
            "|   164389|           2288|       rory-donnelly|       Rory Donnelly|Northern Ireland|      Northern Ireland|   1992-02-18|    Attack|    Centre-Forward|Right|         188|           113000.0|                   225000.0|https://www.trans...|\n",
            "|    45247|           1162|      damien-perquis|      Damien Perquis|          France|                France|   1986-03-08|Goalkeeper|        Goalkeeper|Right|         186|               NULL|                   900000.0|https://www.trans...|\n",
            "|    97205|          28095| nikita-bezlikhotnov| Nikita Bezlikhotnov|           UdSSR|                Russia|   1990-08-19|    Attack|      Right Winger|Right|         179|               NULL|                   675000.0|https://www.trans...|\n",
            "|    14962|           1177|         jesper-bech|         Jesper Bech|            NULL|               Denmark|   1982-05-25|  Midfield|  Central Midfield| Left|         177|               NULL|                  1130000.0|https://www.trans...|\n",
            "|   202836|             24|       yaffa-yusupha|       Yaffa Yusupha|      The Gambia|            The Gambia|   1996-12-31|    Attack|    Centre-Forward| NULL|           0|               NULL|                    90000.0|https://www.trans...|\n",
            "|    40027|           5818|       ruben-nygaard|       Ruben Nygaard|            NULL|               Denmark|   1986-05-25|    Attack|      Right Winger|Right|         175|               NULL|                   180000.0|https://www.trans...|\n",
            "|    62065|           5818|        dennis-hoegh|        Dennis Hoegh|         Denmark|               Denmark|   1989-02-21|  Midfield|Attacking Midfield|Right|         184|               NULL|                   225000.0|https://www.trans...|\n",
            "|   203899|            403|         stijn-derkx|         Stijn Derkx|     Netherlands|           Netherlands|   1995-02-03|    Attack|    Centre-Forward|Right|         182|               NULL|                    45000.0|https://www.trans...|\n",
            "|    48897|           1177|         ade-runsewe|         Ade Runsewe|            NULL|               Nigeria|   1989-12-01|    Attack|      Right Winger|Right|         176|               NULL|                   315000.0|https://www.trans...|\n",
            "|    23367|            862|       alessio-sestu|       Alessio Sestu|           Italy|                 Italy|   1983-09-29|    Attack|      Right Winger|Right|         177|               NULL|                   720000.0|https://www.trans...|\n",
            "|   107958|            862|      nicola-bellomo|      Nicola Bellomo|           Italy|                 Italy|   1991-02-18|  Midfield|Attacking Midfield|Right|         174|               NULL|                  1620000.0|https://www.trans...|\n",
            "|   103110|           5818| frederik-hammershoj| Frederik Hammershoj|            NULL|               Denmark|   1987-06-15|  Midfield|  Central Midfield| Left|           0|               NULL|                   135000.0|https://www.trans...|\n",
            "|    45185|            862|       tomasz-kupisz|       Tomasz Kupisz|          Poland|                Poland|   1990-01-02|  Midfield|    Right Midfield|Right|         180|               NULL|                   900000.0|https://www.trans...|\n",
            "|   334723|            800|       nicolas-napol|       Nicolas Napol|          France|               Belgium|   1996-04-03|    Attack|    Centre-Forward|Right|         186|               NULL|                    68000.0|https://www.trans...|\n",
            "|   176130|            800|     lorenzo-rosseti|     Lorenzo Rosseti|           Italy|                 Italy|   1994-08-05|    Attack|    Centre-Forward|Right|         182|               NULL|                  1080000.0|https://www.trans...|\n",
            "|    47769|           1177|    bjarni-vidarsson|    Bjarni Vidarsson|         Iceland|               Iceland|   1988-03-05|  Midfield|  Central Midfield| Both|         187|               NULL|                   900000.0|https://www.trans...|\n",
            "|    20726|            800|     rolando-bianchi|     Rolando Bianchi|           Italy|                 Italy|   1983-02-15|    Attack|    Centre-Forward|Right|         188|               NULL|                     1.17E7|https://www.trans...|\n",
            "|   287631|            276|pierluigi-cappell...|Pierluigi Cappell...|           Italy|                 Italy|   1996-06-09|    Attack|    Centre-Forward| Left|         186|               NULL|                   270000.0|https://www.trans...|\n",
            "+---------+---------------+--------------------+--------------------+----------------+----------------------+-------------+----------+------------------+-----+------------+-------------------+---------------------------+--------------------+\n",
            "only showing top 20 rows\n",
            "\n"
          ]
        }
      ]
    },
    {
      "cell_type": "code",
      "source": [
        "players.printSchema()"
      ],
      "metadata": {
        "colab": {
          "base_uri": "https://localhost:8080/"
        },
        "id": "kMDgTTtWyBxm",
        "outputId": "4c9e748b-dd88-4b7e-9a6b-0503440a8731"
      },
      "execution_count": null,
      "outputs": [
        {
          "output_type": "stream",
          "name": "stdout",
          "text": [
            "root\n",
            " |-- player_id: integer (nullable = true)\n",
            " |-- current_club_id: integer (nullable = true)\n",
            " |-- name: string (nullable = true)\n",
            " |-- pretty_name: string (nullable = true)\n",
            " |-- country_of_birth: string (nullable = true)\n",
            " |-- country_of_citizenship: string (nullable = true)\n",
            " |-- date_of_birth: date (nullable = true)\n",
            " |-- position: string (nullable = true)\n",
            " |-- sub_position: string (nullable = true)\n",
            " |-- foot: string (nullable = true)\n",
            " |-- height_in_cm: integer (nullable = true)\n",
            " |-- market_value_in_gbp: double (nullable = true)\n",
            " |-- highest_market_value_in_gbp: double (nullable = true)\n",
            " |-- url: string (nullable = true)\n",
            "\n"
          ]
        }
      ]
    },
    {
      "cell_type": "code",
      "source": [
        "#8.1\n",
        "from pyspark.sql.functions import col, desc\n",
        "players.groupBy('country_of_birth').count().sort(desc('count')).filter(col('country_of_birth')!='NULL').show()"
      ],
      "metadata": {
        "colab": {
          "base_uri": "https://localhost:8080/"
        },
        "id": "deZvLMAFmwQn",
        "outputId": "6983f35e-bfa1-4346-c124-542e1809fba2"
      },
      "execution_count": null,
      "outputs": [
        {
          "output_type": "stream",
          "name": "stdout",
          "text": [
            "+-----------------+-----+\n",
            "| country_of_birth|count|\n",
            "+-----------------+-----+\n",
            "|           France| 1694|\n",
            "|            Spain| 1388|\n",
            "|            Italy| 1312|\n",
            "|          England| 1273|\n",
            "|          Germany| 1154|\n",
            "|      Netherlands| 1137|\n",
            "|           Brazil| 1087|\n",
            "|           Turkey| 1085|\n",
            "|         Portugal|  803|\n",
            "|           Greece|  725|\n",
            "|            UdSSR|  721|\n",
            "|          Ukraine|  671|\n",
            "|           Russia|  634|\n",
            "|         Scotland|  594|\n",
            "|          Belgium|  580|\n",
            "|          Denmark|  444|\n",
            "|        Argentina|  432|\n",
            "|Jugoslawien (SFR)|  354|\n",
            "|           Sweden|  186|\n",
            "|          Nigeria|  182|\n",
            "+-----------------+-----+\n",
            "only showing top 20 rows\n",
            "\n"
          ]
        }
      ]
    },
    {
      "cell_type": "code",
      "source": [
        "appearances.printSchema()"
      ],
      "metadata": {
        "colab": {
          "base_uri": "https://localhost:8080/"
        },
        "id": "d9FjSfcepBx5",
        "outputId": "4d8cff16-0a08-45f3-d7dc-271054881482"
      },
      "execution_count": null,
      "outputs": [
        {
          "output_type": "stream",
          "name": "stdout",
          "text": [
            "root\n",
            " |-- player_id: integer (nullable = true)\n",
            " |-- game_id: integer (nullable = true)\n",
            " |-- appearance_id: string (nullable = true)\n",
            " |-- competition_id: string (nullable = true)\n",
            " |-- player_club_id: integer (nullable = true)\n",
            " |-- goals: integer (nullable = true)\n",
            " |-- assists: integer (nullable = true)\n",
            " |-- minutes_played: integer (nullable = true)\n",
            " |-- yellow_cards: integer (nullable = true)\n",
            " |-- red_cards: integer (nullable = true)\n",
            "\n"
          ]
        }
      ]
    },
    {
      "cell_type": "code",
      "source": [
        "appearances.show()"
      ],
      "metadata": {
        "colab": {
          "base_uri": "https://localhost:8080/"
        },
        "id": "zomXLG9pyLxa",
        "outputId": "9c9e272d-82fa-47e3-a5f4-72ecf929363c"
      },
      "execution_count": null,
      "outputs": [
        {
          "output_type": "stream",
          "name": "stdout",
          "text": [
            "+---------+-------+-------------+--------------+--------------+-----+-------+--------------+------------+---------+\n",
            "|player_id|game_id|appearance_id|competition_id|player_club_id|goals|assists|minutes_played|yellow_cards|red_cards|\n",
            "+---------+-------+-------------+--------------+--------------+-----+-------+--------------+------------+---------+\n",
            "|    52453|2483937|2483937_52453|           RU1|         28095|    0|      0|            90|           0|        0|\n",
            "|    67064|2479929|2479929_67064|           RU1|         28095|    0|      0|            90|           0|        0|\n",
            "|    67064|2483937|2483937_67064|           RU1|         28095|    0|      0|            90|           0|        0|\n",
            "|    67064|2484582|2484582_67064|           RU1|         28095|    0|      0|            55|           0|        0|\n",
            "|    67064|2485965|2485965_67064|           RU1|         28095|    0|      0|            90|           0|        0|\n",
            "|    67064|2487345|2487345_67064|           RU1|         28095|    0|      0|            90|           1|        0|\n",
            "|    67064|2498464|2498464_67064|           RU1|         28095|    0|      0|            90|           0|        0|\n",
            "|    67064|2500260|2500260_67064|           RU1|         28095|    0|      1|            19|           0|        0|\n",
            "|    67064|2506733|2506733_67064|           RU1|         28095|    1|      0|            90|           1|        0|\n",
            "|    67064|2508366|2508366_67064|           RU1|         28095|    0|      0|             2|           0|        0|\n",
            "|    67064|2493717|2493717_67064|           RUP|         28095|    0|      0|            65|           0|        0|\n",
            "|    98558|2498464|2498464_98558|           RU1|         28095|    0|      0|            90|           0|        0|\n",
            "|    36227|2479927|2479927_36227|           RU1|          1186|    0|      0|            45|           1|        0|\n",
            "|    52453|2484582|2484582_52453|           RU1|         28095|    0|      0|            90|           0|        0|\n",
            "|    52453|2485965|2485965_52453|           RU1|         28095|    0|      0|            45|           0|        0|\n",
            "|    52453|2487345|2487345_52453|           RU1|         28095|    0|      0|            53|           0|        0|\n",
            "|    52453|2489341|2489341_52453|           RU1|         28095|    0|      0|            35|           0|        0|\n",
            "|    52453|2493788|2493788_52453|           RU1|         28095|    0|      1|            65|           0|        0|\n",
            "|    52453|2498464|2498464_52453|           RU1|         28095|    0|      0|            19|           0|        0|\n",
            "|    52453|2500260|2500260_52453|           RU1|         28095|    1|      0|            86|           0|        0|\n",
            "+---------+-------+-------------+--------------+--------------+-----+-------+--------------+------------+---------+\n",
            "only showing top 20 rows\n",
            "\n"
          ]
        }
      ]
    },
    {
      "cell_type": "code",
      "source": [
        "#8.2\n",
        "df = appearances.join(players,appearances['player_id']==players['player_id'])\n",
        "df.filter(col('red_cards')>0).groupBy('pretty_name').count().select('pretty_name','count').sort(desc('count')).show()"
      ],
      "metadata": {
        "colab": {
          "base_uri": "https://localhost:8080/"
        },
        "id": "5vvu1j5Zrxua",
        "outputId": "589493a0-2f57-4b3b-fbef-886216543dde"
      },
      "execution_count": null,
      "outputs": [
        {
          "output_type": "stream",
          "name": "stdout",
          "text": [
            "+--------------------+-----+\n",
            "|         pretty_name|count|\n",
            "+--------------------+-----+\n",
            "|             Marcelo|    6|\n",
            "|    Domenico Berardi|    5|\n",
            "|             Rodrigo|    5|\n",
            "|        Granit Xhaka|    5|\n",
            "|          Thomas Lam|    5|\n",
            "|     Mario Balotelli|    5|\n",
            "|              Hilton|    5|\n",
            "|          Joao Pedro|    4|\n",
            "|          David Luiz|    4|\n",
            "|      Rafik Halliche|    4|\n",
            "|   Kalidou Koulibaly|    4|\n",
            "|          Ante Rebic|    4|\n",
            "|     Yannick Cahuzac|    4|\n",
            "|     Damien Da Silva|    4|\n",
            "|       Ramon Leeuwin|    4|\n",
            "|Timothee Kolodzie...|    4|\n",
            "|     Roberto Soriano|    4|\n",
            "|     Rodrigo De Paul|    4|\n",
            "|         Ivan Ordets|    4|\n",
            "|     Stefan Mitrovic|    4|\n",
            "+--------------------+-----+\n",
            "only showing top 20 rows\n",
            "\n"
          ]
        }
      ]
    },
    {
      "cell_type": "code",
      "source": [
        "games.printSchema()"
      ],
      "metadata": {
        "colab": {
          "base_uri": "https://localhost:8080/"
        },
        "id": "0Sis3S92ya8J",
        "outputId": "97d4d679-78b3-4fda-960a-0bc55f0cc506"
      },
      "execution_count": null,
      "outputs": [
        {
          "output_type": "stream",
          "name": "stdout",
          "text": [
            "root\n",
            " |-- game_id: integer (nullable = true)\n",
            " |-- competition_code: string (nullable = true)\n",
            " |-- season: integer (nullable = true)\n",
            " |-- round: string (nullable = true)\n",
            " |-- date: date (nullable = true)\n",
            " |-- home_club_id: integer (nullable = true)\n",
            " |-- away_club_id: integer (nullable = true)\n",
            " |-- home_club_goals: integer (nullable = true)\n",
            " |-- away_club_goals: integer (nullable = true)\n",
            " |-- home_club_position: integer (nullable = true)\n",
            " |-- away_club_position: integer (nullable = true)\n",
            " |-- stadium: string (nullable = true)\n",
            " |-- attendance: integer (nullable = true)\n",
            " |-- referee: string (nullable = true)\n",
            " |-- url: string (nullable = true)\n",
            "\n"
          ]
        }
      ]
    },
    {
      "cell_type": "code",
      "source": [
        "games.show()"
      ],
      "metadata": {
        "colab": {
          "base_uri": "https://localhost:8080/"
        },
        "id": "Yh5tZEmHyg56",
        "outputId": "78f7da85-c2f0-4f70-fec0-0ad4ab6426b1"
      },
      "execution_count": null,
      "outputs": [
        {
          "output_type": "stream",
          "name": "stdout",
          "text": [
            "+-------+----------------+------+-------------+----------+------------+------------+---------------+---------------+------------------+------------------+--------------------+----------+--------------------+--------------------+\n",
            "|game_id|competition_code|season|        round|      date|home_club_id|away_club_id|home_club_goals|away_club_goals|home_club_position|away_club_position|             stadium|attendance|             referee|                 url|\n",
            "+-------+----------------+------+-------------+----------+------------+------------+---------------+---------------+------------------+------------------+--------------------+----------+--------------------+--------------------+\n",
            "|2457642|            NLSC|  2014|        Final|2014-08-03|        1269|         610|              1|              0|              NULL|              NULL| Johan Cruijff ArenA|     42000|      Danny Makkelie|https://www.trans...|\n",
            "|2639088|            BESC|  2013|        Final|2014-07-20|          58|         498|              2|              1|              NULL|              NULL|Constant Vanden S...|     13733|     Jonathan Lardot|https://www.trans...|\n",
            "|2481145|             SUC|  2014|final 1st leg|2014-08-19|         418|          13|              1|              1|              NULL|              NULL|   Santiago Bernabéu|     75897|   Estrada Fernández|https://www.trans...|\n",
            "|2484338|            POSU|  2014|        Final|2014-08-10|         294|        2425|              3|              2|              NULL|              NULL|Estádio Municipal...|     30000|        Duarte Gomes|https://www.trans...|\n",
            "|2502472|            FRCH|  2014|        Final|2014-08-02|         583|         855|              2|              0|              NULL|              NULL|     Workers Stadium|     39752|      Clément Turpin|https://www.trans...|\n",
            "|2459774|             NL1|  2014| 21. Matchday|2015-02-05|         610|        1090|              0|              1|                 2|                 5| Johan Cruijff ArenA|     47724|      Pol van Boekel|https://www.trans...|\n",
            "|2480169|             PO1|  2014| 16. Matchday|2015-01-11|        2425|        1301|              0|              0|                 6|                10|   Estádio dos Arcos|      2230|       Tiago Martins|https://www.trans...|\n",
            "|2490887|             PO1|  2014| 20. Matchday|2015-02-08|        1085|        2990|              0|              0|                14|                16|   Estádio do Bonfim|      3500|     Fábio Veríssimo|https://www.trans...|\n",
            "|2498723|             PO1|  2014| 22. Matchday|2015-02-21|        1085|        3327|              0|              1|                15|                18|   Estádio do Bonfim|      2108|       Rui Rodrigues|https://www.trans...|\n",
            "|2479542|            POCP|  2014|      Group C|2014-08-13|        3345|        4750|              0|              0|              NULL|              NULL|      Estádio do Mar|       448|       Jorge Tavares|https://www.trans...|\n",
            "|2460640|              L1|  2014|  2. Matchday|2014-08-30|          86|         533|              1|              1|                 9|                 3|Wohninvest-Wesers...|     38900|     Robert Hartmann|https://www.trans...|\n",
            "|2460300|             GB1|  2014|  1. Matchday|2014-08-16|         985|        2288|              1|              2|                15|                 5|        Old Trafford|     75339|           Mike Dean|https://www.trans...|\n",
            "|2486545|             GB1|  2014|  8. Matchday|2014-10-18|         180|         289|              8|              0|                 3|                17|   St Mary's Stadium|     29615|      Andre Marriner|https://www.trans...|\n",
            "|2486598|             GB1|  2014| 13. Matchday|2014-11-30|         148|          29|              2|              1|                 7|                10|     White Hart Lane|     35901|      Michael Oliver|https://www.trans...|\n",
            "|2486692|             GB1|  2014| 23. Matchday|2015-01-31|        3008|         762|              0|              3|                18|                11|        KCOM Stadium|     23925|           Phil Dowd|https://www.trans...|\n",
            "|2486714|             GB1|  2014| 25. Matchday|2015-02-10|          31|         148|              3|              2|                 7|                 6|             Anfield|     44577|           Phil Dowd|https://www.trans...|\n",
            "|2486726|             GB1|  2014| 26. Matchday|2015-02-21|         289|         984|              0|              0|                16|                14|    Stadium of Light|     40943|          Mike Jones|https://www.trans...|\n",
            "|2475235|             ES1|  2014|  6. Matchday|2014-09-26|        1531|         940|              0|              1|                18|                 6|Manuel Martínez V...|     20852|Pedro Jesús Pérez...|https://www.trans...|\n",
            "|2475322|             ES1|  2014| 15. Matchday|2014-12-14|         681|         621|              1|              1|                14|                10|              Anoeta|     26651|David Fernández B...|https://www.trans...|\n",
            "|2475350|             ES1|  2014| 18. Matchday|2015-01-10|        1084|        1050|              1|              1|                 7|                 6|         La Rosaleda|     22077|Santiago Jaime Latre|https://www.trans...|\n",
            "+-------+----------------+------+-------------+----------+------------+------------+---------------+---------------+------------------+------------------+--------------------+----------+--------------------+--------------------+\n",
            "only showing top 20 rows\n",
            "\n"
          ]
        }
      ]
    },
    {
      "cell_type": "code",
      "source": [
        "leagues.printSchema()"
      ],
      "metadata": {
        "colab": {
          "base_uri": "https://localhost:8080/"
        },
        "id": "xPsRCfM2ypsX",
        "outputId": "9d6fa865-d0a9-43f6-b010-664d70611103"
      },
      "execution_count": null,
      "outputs": [
        {
          "output_type": "stream",
          "name": "stdout",
          "text": [
            "root\n",
            " |-- league_id: string (nullable = true)\n",
            " |-- name: string (nullable = true)\n",
            " |-- confederation: string (nullable = true)\n",
            "\n"
          ]
        }
      ]
    },
    {
      "cell_type": "code",
      "source": [
        "#8.3\n",
        "games.filter(col('competition_code')=='GB1').join(leagues,col('competition_code')==col('league_id')).groupBy('name').count().show()\n"
      ],
      "metadata": {
        "colab": {
          "base_uri": "https://localhost:8080/"
        },
        "id": "ePwy_iDytotl",
        "outputId": "4d469a53-83eb-4479-b256-a99d78558c51"
      },
      "execution_count": null,
      "outputs": [
        {
          "output_type": "stream",
          "name": "stdout",
          "text": [
            "+--------------+-----+\n",
            "|          name|count|\n",
            "+--------------+-----+\n",
            "|premier-league| 2809|\n",
            "+--------------+-----+\n",
            "\n"
          ]
        }
      ]
    },
    {
      "cell_type": "code",
      "source": [
        "#8.4\n",
        "games.groupBy('competition_code').sum('attendance').join(leagues,col('competition_code')==col('league_id')).sort(desc('sum(attendance)')).select('name','sum(attendance)').show()"
      ],
      "metadata": {
        "colab": {
          "base_uri": "https://localhost:8080/"
        },
        "id": "3zVbeljnwFTI",
        "outputId": "c147c761-7335-4623-aba5-99e75349acc3"
      },
      "execution_count": null,
      "outputs": [
        {
          "output_type": "stream",
          "name": "stdout",
          "text": [
            "+--------------------+---------------+\n",
            "|                name|sum(attendance)|\n",
            "+--------------------+---------------+\n",
            "|      premier-league|       86964852|\n",
            "|          bundesliga|       78102473|\n",
            "|              laliga|       62943533|\n",
            "|             serie-a|       53475147|\n",
            "|             ligue-1|       51593963|\n",
            "|          eredivisie|       34572418|\n",
            "|        premier-liga|       20878744|\n",
            "|            liga-nos|       20072843|\n",
            "|  jupiler-pro-league|       17817099|\n",
            "|           super-lig|       17455236|\n",
            "|scottish-premiership|       17379753|\n",
            "|         superligaen|        7945555|\n",
            "|      super-league-1|        6417136|\n",
            "|        premier-liga|        4944837|\n",
            "+--------------------+---------------+\n",
            "\n"
          ]
        }
      ]
    },
    {
      "cell_type": "markdown",
      "source": [
        "#Ejercicios Sección 9 - Funciones en Spark SQL\n",
        "Adjunto como recurso a esta lección están los archivos movies.csv y movie_ratings.csv. En ambos archivos las columnas están delimitadas por un pip(“|”).\n",
        "\n",
        "Cada línea del archivo movies.csv representa a un actor que actuó en una película. Si una película tiene diez actores, habrá diez filas para esa película en particular.\n",
        "\n",
        "1. Calcule la cantidad de películas en las que participó cada actor. La salida debe tener dos columnas: actor y conteo. La salida debe ordenarse por el conteo en orden descendente.\n",
        "\n",
        "2. Calcule la cantidad de películas producidas cada año. La salida debe tener tres columnas: año, siglo al que pertenece el año y conteo. La salida debe ordenarse por el conteo en orden descendente.\n",
        "\n",
        "3. Obtenga la película con la calificación más alta por año. La salida debe tener solo una película por año y debe contener tres columnas: año, título de la película y valoración."
      ],
      "metadata": {
        "id": "nYamH81CBYPW"
      }
    },
    {
      "cell_type": "code",
      "source": [
        "movies = spark.read.option('sep','|').option('header','true').option('inferSchema','true').csv('/content/movies.csv')\n",
        "movies.show()\n",
        "movies.printSchema()"
      ],
      "metadata": {
        "colab": {
          "base_uri": "https://localhost:8080/"
        },
        "id": "_mftTtqPB3RW",
        "outputId": "d1829652-eaf7-4f6a-befd-dbdf56d9e198"
      },
      "execution_count": null,
      "outputs": [
        {
          "output_type": "stream",
          "name": "stdout",
          "text": [
            "+-----------------+--------------------+----+\n",
            "|            actor|            pelicula| año|\n",
            "+-----------------+--------------------+----+\n",
            "|McClure, Marc (I)|       Freaky Friday|2003|\n",
            "|McClure, Marc (I)|        Coach Carter|2005|\n",
            "|McClure, Marc (I)|         Superman II|1980|\n",
            "|McClure, Marc (I)|           Apollo 13|1995|\n",
            "|McClure, Marc (I)|            Superman|1978|\n",
            "|McClure, Marc (I)|  Back to the Future|1985|\n",
            "|McClure, Marc (I)|Back to the Futur...|1990|\n",
            "|Cooper, Chris (I)|  Me, Myself & Irene|2000|\n",
            "|Cooper, Chris (I)|         October Sky|1999|\n",
            "|Cooper, Chris (I)|              Capote|2005|\n",
            "|Cooper, Chris (I)|The Bourne Supremacy|2004|\n",
            "|Cooper, Chris (I)|         The Patriot|2000|\n",
            "|Cooper, Chris (I)|            The Town|2010|\n",
            "|Cooper, Chris (I)|          Seabiscuit|2003|\n",
            "|Cooper, Chris (I)|      A Time to Kill|1996|\n",
            "|Cooper, Chris (I)|Where the Wild Th...|2009|\n",
            "|Cooper, Chris (I)|         The Muppets|2011|\n",
            "|Cooper, Chris (I)|     American Beauty|1999|\n",
            "|Cooper, Chris (I)|             Syriana|2005|\n",
            "|Cooper, Chris (I)| The Horse Whisperer|1998|\n",
            "+-----------------+--------------------+----+\n",
            "only showing top 20 rows\n",
            "\n",
            "root\n",
            " |-- actor: string (nullable = true)\n",
            " |-- pelicula: string (nullable = true)\n",
            " |-- año: integer (nullable = true)\n",
            "\n"
          ]
        }
      ]
    },
    {
      "cell_type": "code",
      "source": [
        "#9.1\n",
        "from pyspark.sql.functions import col,desc\n",
        "movies.groupBy(col('actor')).count().select(col('actor'),col('count')).sort(desc('count')).show()"
      ],
      "metadata": {
        "colab": {
          "base_uri": "https://localhost:8080/"
        },
        "id": "9KUJVmWMGqOm",
        "outputId": "3dcbaf64-dd2c-410f-d38d-4e51bf229575"
      },
      "execution_count": null,
      "outputs": [
        {
          "output_type": "stream",
          "name": "stdout",
          "text": [
            "+-------------------+-----+\n",
            "|              actor|count|\n",
            "+-------------------+-----+\n",
            "|   Tatasciore, Fred|   38|\n",
            "|      Welker, Frank|   38|\n",
            "| Jackson, Samuel L.|   32|\n",
            "|      Harnell, Jess|   31|\n",
            "|        Damon, Matt|   27|\n",
            "|      Willis, Bruce|   27|\n",
            "|  Cummings, Jim (I)|   26|\n",
            "|         Hanks, Tom|   25|\n",
            "|   Lynn, Sherry (I)|   25|\n",
            "|    McGowan, Mickie|   25|\n",
            "|    Bergen, Bob (I)|   25|\n",
            "|      Proctor, Phil|   24|\n",
            "|   Wilson, Owen (I)|   23|\n",
            "|        Cruise, Tom|   23|\n",
            "|         Pitt, Brad|   23|\n",
            "|Freeman, Morgan (I)|   22|\n",
            "|Williams, Robin (I)|   22|\n",
            "|       Depp, Johnny|   22|\n",
            "|     Morrison, Rana|   22|\n",
            "|      Diaz, Cameron|   21|\n",
            "+-------------------+-----+\n",
            "only showing top 20 rows\n",
            "\n"
          ]
        }
      ]
    },
    {
      "cell_type": "code",
      "source": [
        "movra = spark.read.option('sep','|').option('header','true').option('inferSchema','true').csv('/content/movie_ratings.csv')\n",
        "movra.show(truncate=False)\n",
        "movra.printSchema()"
      ],
      "metadata": {
        "colab": {
          "base_uri": "https://localhost:8080/"
        },
        "id": "eY5_2gacF-je",
        "outputId": "dfa82d61-2441-4ae1-91e4-2bd428d220d7"
      },
      "execution_count": null,
      "outputs": [
        {
          "output_type": "stream",
          "name": "stdout",
          "text": [
            "+----------+--------------------------+----+\n",
            "|valoracion|pelicula                  |año |\n",
            "+----------+--------------------------+----+\n",
            "|1.6339    |'Crocodile' Dundee II     |1988|\n",
            "|7.6177    |10                        |1979|\n",
            "|1.2864    |10 Things I Hate About You|1999|\n",
            "|0.3243    |10,000 BC                 |2008|\n",
            "|0.3376    |101 Dalmatians            |1996|\n",
            "|0.5218    |102 Dalmatians            |2000|\n",
            "|12.8205   |1066                      |2012|\n",
            "|0.6829    |12                        |2007|\n",
            "|7.4061    |12 Rounds                 |2009|\n",
            "|2.3677    |127 Hours                 |2010|\n",
            "|1.3585    |13 Going on 30            |2004|\n",
            "|8.4034    |13 game sayawng           |2006|\n",
            "|0.59      |1408                      |2007|\n",
            "|4.4292    |15 Minutes                |2001|\n",
            "|2.2118    |16 Blocks                 |2006|\n",
            "|1.0491    |17 Again                  |2009|\n",
            "|3.9265    |1941                      |1979|\n",
            "|10.4757   |2 Days in the Valley      |1996|\n",
            "|0.4       |2 Fast 2 Furious          |2003|\n",
            "|11.1111   |2 Guns                    |2013|\n",
            "+----------+--------------------------+----+\n",
            "only showing top 20 rows\n",
            "\n",
            "root\n",
            " |-- valoracion: double (nullable = true)\n",
            " |-- pelicula: string (nullable = true)\n",
            " |-- año: integer (nullable = true)\n",
            "\n"
          ]
        }
      ]
    },
    {
      "cell_type": "code",
      "source": [
        "#9.2\n",
        "from pyspark.sql.functions import when,lit,countDistinct\n",
        "movies.groupBy('año').agg(\n",
        "    countDistinct('pelicula').alias('conteo')\n",
        ").withColumn('siglo', when((col('año')>=1900) & (col('año')<2000), lit('XX')).otherwise(lit('XXI'))).orderBy(desc('conteo')).show()"
      ],
      "metadata": {
        "colab": {
          "base_uri": "https://localhost:8080/"
        },
        "id": "yVqyc0baIPu2",
        "outputId": "1d1a57f8-8c99-4a24-8226-6409259ee68d"
      },
      "execution_count": null,
      "outputs": [
        {
          "output_type": "stream",
          "name": "stdout",
          "text": [
            "+----+------+-----+\n",
            "| año|conteo|siglo|\n",
            "+----+------+-----+\n",
            "|2006|    86|  XXI|\n",
            "|2004|    86|  XXI|\n",
            "|2011|    86|  XXI|\n",
            "|2005|    85|  XXI|\n",
            "|2008|    82|  XXI|\n",
            "|2002|    81|  XXI|\n",
            "|2010|    78|  XXI|\n",
            "|2000|    77|  XXI|\n",
            "|2003|    76|  XXI|\n",
            "|2007|    75|  XXI|\n",
            "|2001|    71|  XXI|\n",
            "|2009|    68|  XXI|\n",
            "|1999|    67|   XX|\n",
            "|1997|    66|   XX|\n",
            "|1998|    59|   XX|\n",
            "|1996|    42|   XX|\n",
            "|2012|    32|  XXI|\n",
            "|1995|    25|   XX|\n",
            "|1994|    16|   XX|\n",
            "|1986|    16|   XX|\n",
            "+----+------+-----+\n",
            "only showing top 20 rows\n",
            "\n"
          ]
        }
      ]
    },
    {
      "cell_type": "code",
      "source": [
        "movra.show()\n"
      ],
      "metadata": {
        "colab": {
          "base_uri": "https://localhost:8080/"
        },
        "id": "v_sgnhmZKipb",
        "outputId": "453a3868-b68d-4320-86e9-a2db9c6c2b3d"
      },
      "execution_count": null,
      "outputs": [
        {
          "output_type": "stream",
          "name": "stdout",
          "text": [
            "+----------+--------------------+----+\n",
            "|valoracion|            pelicula| año|\n",
            "+----------+--------------------+----+\n",
            "|    1.6339|'Crocodile' Dunde...|1988|\n",
            "|    7.6177|                  10|1979|\n",
            "|    1.2864|10 Things I Hate ...|1999|\n",
            "|    0.3243|           10,000 BC|2008|\n",
            "|    0.3376|      101 Dalmatians|1996|\n",
            "|    0.5218|      102 Dalmatians|2000|\n",
            "|   12.8205|                1066|2012|\n",
            "|    0.6829|                  12|2007|\n",
            "|    7.4061|           12 Rounds|2009|\n",
            "|    2.3677|           127 Hours|2010|\n",
            "|    1.3585|      13 Going on 30|2004|\n",
            "|    8.4034|     13 game sayawng|2006|\n",
            "|      0.59|                1408|2007|\n",
            "|    4.4292|          15 Minutes|2001|\n",
            "|    2.2118|           16 Blocks|2006|\n",
            "|    1.0491|            17 Again|2009|\n",
            "|    3.9265|                1941|1979|\n",
            "|   10.4757|2 Days in the Valley|1996|\n",
            "|       0.4|    2 Fast 2 Furious|2003|\n",
            "|   11.1111|              2 Guns|2013|\n",
            "+----------+--------------------+----+\n",
            "only showing top 20 rows\n",
            "\n"
          ]
        }
      ]
    },
    {
      "cell_type": "code",
      "source": [
        "from pyspark.sql.window import Window\n",
        "from pyspark.sql.functions import row_number,max\n",
        "windowSpec = Window.partitionBy('año').orderBy(desc('valoracion'))\n",
        "windowSpecAgg = Window.partitionBy('año')"
      ],
      "metadata": {
        "id": "cIT4G9VGR6DN"
      },
      "execution_count": null,
      "outputs": []
    },
    {
      "cell_type": "code",
      "source": [
        "#9.3\n",
        "movra.withColumn('row_number', row_number().over(windowSpec)).withColumn('max_val',max('valoracion').over(windowSpecAgg)).filter(col('row_number')==1\n",
        "  ).select('pelicula','año','max_val').show()"
      ],
      "metadata": {
        "colab": {
          "base_uri": "https://localhost:8080/"
        },
        "id": "MU1hM0RALDQ6",
        "outputId": "e1e3883d-16fe-4eed-f26f-5fa06977ed79"
      },
      "execution_count": null,
      "outputs": [
        {
          "output_type": "stream",
          "name": "stdout",
          "text": [
            "+--------------------+----+-------+\n",
            "|            pelicula| año|max_val|\n",
            "+--------------------+----+-------+\n",
            "|Snow White and th...|1937| 2.2207|\n",
            "|    The Wizard of Oz|1939| 7.9215|\n",
            "|           Pinocchio|1940| 7.8557|\n",
            "|               Bambi|1942| 1.5053|\n",
            "|   Song of the South|1946|  7.602|\n",
            "|          Cinderella|1950| 9.4226|\n",
            "|           Peter Pan|1953| 5.4756|\n",
            "|         Rear Window|1954|10.7625|\n",
            "|  Lady and the Tramp|1955| 5.1258|\n",
            "|Around the World ...|1956|14.0607|\n",
            "|     Sleeping Beauty|1959| 6.3919|\n",
            "|              Psycho|1960|10.6375|\n",
            "|One Hundred and O...|1961| 0.6726|\n",
            "|     The Longest Day|1962|12.8866|\n",
            "|It's a Mad Mad Ma...|1963|  6.626|\n",
            "|        My Fair Lady|1964|  7.587|\n",
            "|      Doctor Zhivago|1965| 4.9304|\n",
            "|Who's Afraid of V...|1966|11.1111|\n",
            "|     The Dirty Dozen|1967| 13.388|\n",
            "|        The Love Bug|1968|13.4383|\n",
            "+--------------------+----+-------+\n",
            "only showing top 20 rows\n",
            "\n"
          ]
        }
      ]
    }
  ]
}